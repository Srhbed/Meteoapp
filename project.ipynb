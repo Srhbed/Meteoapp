{
 "cells": [
  {
   "cell_type": "markdown",
   "metadata": {},
   "source": [
    "### Appeler les données météorologique actuelles\n",
    "\n"
   ]
  },
  {
   "cell_type": "code",
   "execution_count": 2,
   "metadata": {},
   "outputs": [],
   "source": [
    "import requests\n"
   ]
  },
  {
   "cell_type": "code",
   "execution_count": 4,
   "metadata": {},
   "outputs": [
    {
     "data": {
      "text/plain": [
       "'12e30bac05ff8b5c1f2adf2be1c7be2b'"
      ]
     },
     "execution_count": 4,
     "metadata": {},
     "output_type": "execute_result"
    }
   ],
   "source": [
    "URL=\"https://api.openweathermap.org/data/2.5\"\n",
    "api_key = \"12e30bac05ff8b5c1f2adf2be1c7be2b\"\n",
    "api_key\n",
    "\n"
   ]
  },
  {
   "cell_type": "code",
   "execution_count": 12,
   "metadata": {},
   "outputs": [
    {
     "data": {
      "text/plain": [
       "{'coord': {'lon': 12.49, 'lat': 41.9},\n",
       " 'weather': [{'id': 803,\n",
       "   'main': 'Clouds',\n",
       "   'description': 'broken clouds',\n",
       "   'icon': '04n'}],\n",
       " 'base': 'stations',\n",
       " 'main': {'temp': 292.81,\n",
       "  'feels_like': 292.79,\n",
       "  'temp_min': 290.64,\n",
       "  'temp_max': 294.22,\n",
       "  'pressure': 1018,\n",
       "  'humidity': 75},\n",
       " 'visibility': 10000,\n",
       " 'wind': {'speed': 2.06, 'deg': 120},\n",
       " 'clouds': {'all': 75},\n",
       " 'dt': 1665606906,\n",
       " 'sys': {'type': 2,\n",
       "  'id': 2037790,\n",
       "  'country': 'IT',\n",
       "  'sunrise': 1665551911,\n",
       "  'sunset': 1665592458},\n",
       " 'timezone': 7200,\n",
       " 'id': 6545158,\n",
       " 'name': 'Trevi',\n",
       " 'cod': 200}"
      ]
     },
     "execution_count": 12,
     "metadata": {},
     "output_type": "execute_result"
    }
   ],
   "source": [
    "url = \"https://api.openweathermap.org/data/2.5\"\n",
    "api_key = \"12e30bac05ff8b5c1f2adf2be1c7be2b\"\n",
    "dict = {\"appid\" : api_key, \"lat\" : 41.9,\"lon\" :12.49}\n",
    "temps = requests.get(url + \"/weather\" ,params=dict)\n",
    "\n",
    "temps.json()\n"
   ]
  },
  {
   "cell_type": "markdown",
   "metadata": {},
   "source": [
    "### Champs météo \n",
    "\n"
   ]
  },
  {
   "cell_type": "code",
   "execution_count": 3,
   "metadata": {},
   "outputs": [
    {
     "data": {
      "text/plain": [
       "'12e30bac05ff8b5c1f2adf2be1c7be2b'"
      ]
     },
     "execution_count": 3,
     "metadata": {},
     "output_type": "execute_result"
    }
   ],
   "source": []
  },
  {
   "cell_type": "markdown",
   "metadata": {},
   "source": [
    "### Liste des codes de conditions météorologiques"
   ]
  },
  {
   "cell_type": "code",
   "execution_count": 3,
   "metadata": {},
   "outputs": [
    {
     "name": "stdout",
     "output_type": "stream",
     "text": [
      "conditions_météorologiques:{'id': 300, 'main': 'Drizzle', 'description': 'light intensity drizzle', 'icon': '09d'}\n"
     ]
    }
   ],
   "source": [
    "\n",
    "\n",
    "\n",
    "url=\"https://samples.openweathermap.org/data/2.5/weather?q=Londone&appid=b1b15e88fa797225412429c1c50c122a1\"\n",
    "con=requests.get(url)\n",
    "\n",
    "condition_weather=con.json()\n",
    "\n",
    "weather=condition_weather[\"weather\"][0]\n",
    "\n",
    "print(\"conditions_météorologiques:{}\".format(weather))\n",
    "\n",
    "\n",
    "\n",
    "\n",
    "\n",
    "\n",
    "\n",
    "\n",
    "\n",
    "\n",
    "\n"
   ]
  },
  {
   "cell_type": "markdown",
   "metadata": {},
   "source": [
    "### obtenir l'url de l'icone"
   ]
  },
  {
   "cell_type": "code",
   "execution_count": null,
   "metadata": {},
   "outputs": [],
   "source": []
  },
  {
   "cell_type": "markdown",
   "metadata": {},
   "source": [
    "\n",
    "### température min/max de la météo actuelle et celle de prévision météorologique"
   ]
  },
  {
   "cell_type": "code",
   "execution_count": 6,
   "metadata": {},
   "outputs": [
    {
     "name": "stdout",
     "output_type": "stream",
     "text": [
      "temps :280.32°\n",
      "pression :1012 m/s\n",
      "humidité:81\n",
      "temperature_min:279.15\n",
      "temperature_max :281.15\n",
      "icon:('09d',)\n"
     ]
    }
   ],
   "source": [
    "temps=requests.get(url)\n",
    "\n",
    "temperature=temps.json()\n",
    "\n",
    "tempss=temperature[\"main\"][\"temp\"]\n",
    "pression=temperature[\"main\"][\"pressure\"]\n",
    "humidite=temperature[\"main\"][\"humidity\"]\n",
    "icon=temperature['weather'][0]['icon'] ,\n",
    "\n",
    "temperature_min=temperature[\"main\"][\"temp_min\"]\n",
    "temperature_max=temperature[\"main\"][\"temp_max\"]\n",
    "\n",
    "print(\"temps :{}°\".format(tempss))\n",
    "print(\"pression :{} m/s\".format(pression))\n",
    "print(\"humidité:{}\".format(humidite))\n",
    "print(\"temperature_min:{}\".format(temperature_min))\n",
    "print(\"temperature_max :{}\".format(temperature_max))\n"
   ]
  },
  {
   "cell_type": "code",
   "execution_count": 32,
   "metadata": {},
   "outputs": [
    {
     "name": "stdout",
     "output_type": "stream",
     "text": [
      "Voici les données météorologique de: lille\n",
      "temperature :15.5°\n",
      "vitesse_de_vent :6.17 m/s\n",
      "Latitude :50.633\n",
      "Longitude :3.0586\n",
      "description :clear sky\n"
     ]
    }
   ],
   "source": [
    "city=input(\"veuillez entrer le nom de votre ville:\")\n",
    "URL=\"https://api.openweathermap.org/data/2.5/weather?q={}&appid=12e30bac05ff8b5c1f2adf2be1c7be2b&units=metric\".format(city)\n",
    "res=requests.get(URL)\n",
    "data=res.json()\n",
    "\n",
    "temps=data[\"main\"][\"temp\"]\n",
    "wind_speed=data[\"wind\"][\"speed\"]\n",
    "latitude=data[\"coord\"][\"lat\"]\n",
    "longitude=data[\"coord\"][\"lon\"]\n",
    "description=data[\"weather\"][0][\"description\"]\n",
    "\n",
    "print(\"Voici les données météorologique de:\", city )\n",
    "print(\"temperature :{}°\".format(temps))\n",
    "print(\"vitesse_de_vent :{} m/s\".format(wind_speed))\n",
    "print(\"Latitude :{}\".format(latitude))\n",
    "print(\"Longitude :{}\".format(longitude))\n",
    "print(\"description :{}\".format(description))\n",
    "\n",
    "\n",
    "\n",
    "\n",
    "      \n"
   ]
  },
  {
   "cell_type": "markdown",
   "metadata": {},
   "source": [
    "TEST 5 DAY WEATHER FORECAST.\n"
   ]
  },
  {
   "cell_type": "code",
   "execution_count": 28,
   "metadata": {},
   "outputs": [
    {
     "ename": "KeyError",
     "evalue": "'temp'",
     "output_type": "error",
     "traceback": [
      "\u001b[0;31m---------------------------------------------------------------------------\u001b[0m",
      "\u001b[0;31mKeyError\u001b[0m                                  Traceback (most recent call last)",
      "Cell \u001b[0;32mIn [28], line 8\u001b[0m\n\u001b[1;32m      5\u001b[0m res\u001b[38;5;241m=\u001b[39mrequests\u001b[38;5;241m.\u001b[39mget(URL)\n\u001b[1;32m      6\u001b[0m data\u001b[38;5;241m=\u001b[39mres\u001b[38;5;241m.\u001b[39mjson()\n\u001b[0;32m----> 8\u001b[0m temps\u001b[38;5;241m=\u001b[39m\u001b[43mdata\u001b[49m\u001b[43m[\u001b[49m\u001b[38;5;124;43m\"\u001b[39;49m\u001b[38;5;124;43mlist\u001b[39;49m\u001b[38;5;124;43m\"\u001b[39;49m\u001b[43m]\u001b[49m\u001b[43m[\u001b[49m\u001b[38;5;241;43m0\u001b[39;49m\u001b[43m]\u001b[49m\u001b[43m[\u001b[49m\u001b[38;5;124;43m\"\u001b[39;49m\u001b[38;5;124;43mtemp\u001b[39;49m\u001b[38;5;124;43m\"\u001b[39;49m\u001b[43m]\u001b[49m\n\u001b[1;32m     10\u001b[0m \u001b[38;5;28mprint\u001b[39m(\u001b[38;5;124m\"\u001b[39m\u001b[38;5;124mVoici les données météorologique de:\u001b[39m\u001b[38;5;124m\"\u001b[39m, city )\n\u001b[1;32m     11\u001b[0m \u001b[38;5;28mprint\u001b[39m(\u001b[38;5;124m\"\u001b[39m\u001b[38;5;124mtemperature :\u001b[39m\u001b[38;5;132;01m{}\u001b[39;00m\u001b[38;5;124m°\u001b[39m\u001b[38;5;124m\"\u001b[39m\u001b[38;5;241m.\u001b[39mformat(temps))\n",
      "\u001b[0;31mKeyError\u001b[0m: 'temp'"
     ]
    }
   ],
   "source": [
    "city=input(\"veuillez entrer le nom de votre ville:\")\n",
    "api_key = \"12e30bac05ff8b5c1f2adf2be1c7be2b\"\n",
    "URL=\"http://api.openweathermap.org/data/2.5/forecast?q={}&appid={}\".format(city,api_key)\n",
    "\n",
    "res=requests.get(URL)\n",
    "data=res.json()\n",
    "\n",
    "temps=data[\"main\"][\"temp\"]\n",
    "\n",
    "print(\"Voici les données météorologique de:\", city )\n",
    "print(\"temperature :{}°\".format(temps))"
   ]
  },
  {
   "cell_type": "code",
   "execution_count": 160,
   "metadata": {},
   "outputs": [
    {
     "name": "stdout",
     "output_type": "stream",
     "text": [
      "2022-10-19 15:00:00\n",
      "Temperature : 18.76 C°\n",
      "Ressentie : 18.47 C°\n",
      "La vitesse du vent est de : 5.37 m/s\n",
      "Le temps est : clear sky\n",
      "2022-10-20 21:00:00\n",
      "Temperature : 14.91 C°\n",
      "Ressentie : 14.73 C°\n",
      "La vitesse du vent est de : 4.71 m/s\n",
      "Le temps est : light rain\n",
      "2022-10-21 12:00:00\n",
      "Temperature : 18.71 C°\n",
      "Ressentie : 18.49 C°\n",
      "La vitesse du vent est de : 6.08 m/s\n",
      "Le temps est : light rain\n",
      "2022-10-22 03:00:00\n",
      "Temperature : 14.95 C°\n",
      "Ressentie : 14.54 C°\n",
      "La vitesse du vent est de : 6.26 m/s\n",
      "Le temps est : overcast clouds\n",
      "2022-10-23 09:00:00\n",
      "Temperature : 15.05 C°\n",
      "Ressentie : 14.8 C°\n",
      "La vitesse du vent est de : 3.66 m/s\n",
      "Le temps est : light rain\n",
      "2022-10-24 12:00:00\n",
      "Temperature : 20.17 C°\n",
      "Ressentie : 19.65 C°\n",
      "La vitesse du vent est de : 7.45 m/s\n",
      "Le temps est : broken clouds\n"
     ]
    },
    {
     "ename": "NameError",
     "evalue": "name 'icon' is not defined",
     "output_type": "error",
     "traceback": [
      "\u001b[0;31m---------------------------------------------------------------------------\u001b[0m",
      "\u001b[0;31mNameError\u001b[0m                                 Traceback (most recent call last)",
      "Cell \u001b[0;32mIn [160], line 87\u001b[0m\n\u001b[1;32m     83\u001b[0m \u001b[38;5;28mprint\u001b[39m(\u001b[38;5;124m\"\u001b[39m\u001b[38;5;124mLa vitesse du vent est de :\u001b[39m\u001b[38;5;124m\"\u001b[39m, wind39, \u001b[38;5;124m\"\u001b[39m\u001b[38;5;124mm/s\u001b[39m\u001b[38;5;124m\"\u001b[39m)\n\u001b[1;32m     84\u001b[0m \u001b[38;5;28mprint\u001b[39m(\u001b[38;5;124m\"\u001b[39m\u001b[38;5;124mLe temps est :\u001b[39m\u001b[38;5;124m\"\u001b[39m,description39)\n\u001b[0;32m---> 87\u001b[0m \u001b[43micon\u001b[49m\n",
      "\u001b[0;31mNameError\u001b[0m: name 'icon' is not defined"
     ]
    }
   ],
   "source": [
    "\n",
    "\n",
    "\n",
    "base_url=\"http://api.openweathermap.org/data/2.5/forecast?\"\n",
    "api_key = \"12e30bac05ff8b5c1f2adf2be1c7be2b\"\n",
    "city =input(\"Entrer votre ville.\")\n",
    "units = \"metric\"\n",
    "lang=\"fr\"\n",
    "url = base_url + \"appid=\" + api_key + \"&q=\" + city + \"&units=\" + units\n",
    "\n",
    "\n",
    "response=requests.get(url).json()\n",
    "\n",
    "temp0=response[\"list\"][0][\"main\"][\"temp\"]\n",
    "ressentie0=response[\"list\"][0][\"main\"][\"feels_like\"]\n",
    "dt0=response[\"list\"][0][\"dt_txt\"]\n",
    "wind0=response[\"list\"][0][\"wind\"][\"speed\"]\n",
    "description0=response[\"list\"][0][\"weather\"][0][\"description\"]\n",
    "\n",
    "\n",
    "\n",
    "temp10=response[\"list\"][10][\"main\"][\"temp\"]\n",
    "ressentie10=response[\"list\"][10][\"main\"][\"feels_like\"]\n",
    "dt10=response[\"list\"][10][\"dt_txt\"]\n",
    "wind10=response[\"list\"][10][\"wind\"][\"speed\"]\n",
    "description10=response[\"list\"][10][\"weather\"][0][\"description\"]\n",
    "\n",
    "temp15=response[\"list\"][15][\"main\"][\"temp\"]\n",
    "ressentie15=response[\"list\"][15][\"main\"][\"feels_like\"]\n",
    "dt15=response[\"list\"][15][\"dt_txt\"]\n",
    "wind15=response[\"list\"][15][\"wind\"][\"speed\"]\n",
    "description15=response[\"list\"][15][\"weather\"][0][\"description\"]\n",
    "\n",
    "temp20=response[\"list\"][20][\"main\"][\"temp\"]\n",
    "ressentie20=response[\"list\"][20][\"main\"][\"feels_like\"]\n",
    "dt20=response[\"list\"][20][\"dt_txt\"]\n",
    "wind20=response[\"list\"][20][\"wind\"][\"speed\"]\n",
    "description20=response[\"list\"][20][\"weather\"][0][\"description\"]\n",
    "\n",
    "temp30=response[\"list\"][30][\"main\"][\"temp\"]\n",
    "ressentie30=response[\"list\"][30][\"main\"][\"feels_like\"]\n",
    "dt30=response[\"list\"][30][\"dt_txt\"]\n",
    "wind30=response[\"list\"][30][\"wind\"][\"speed\"]\n",
    "description30=response[\"list\"][30][\"weather\"][0][\"description\"]\n",
    "\n",
    "temp39=response[\"list\"][39][\"main\"][\"temp\"]\n",
    "ressentie39=response[\"list\"][39][\"main\"][\"feels_like\"]\n",
    "dt39=response[\"list\"][39][\"dt_txt\"]\n",
    "wind39=response[\"list\"][39][\"wind\"][\"speed\"]\n",
    "description39=response[\"list\"][39][\"weather\"][0][\"description\"]\n",
    "\n",
    "\n",
    "print(dt0)\n",
    "print(\"Temperature :\",temp0, \"C°\")\n",
    "print(\"Ressentie :\", ressentie0, \"C°\")\n",
    "print(\"La vitesse du vent est de :\", wind0 ,\"m/s\")\n",
    "print(\"Le temps est :\",description0)\n",
    "\n",
    "print(dt10)\n",
    "print(\"Temperature :\",temp10, \"C°\")\n",
    "print(\"Ressentie :\", ressentie10, \"C°\")\n",
    "print(\"La vitesse du vent est de :\", wind10, \"m/s\")\n",
    "print(\"Le temps est :\",description10)\n",
    "\n",
    "print(dt15)\n",
    "print(\"Temperature :\",temp15, \"C°\")\n",
    "print(\"Ressentie :\", ressentie15, \"C°\")\n",
    "print(\"La vitesse du vent est de :\", wind15, \"m/s\")\n",
    "print(\"Le temps est :\",description15)\n",
    "\n",
    "print(dt20)\n",
    "print(\"Temperature :\",temp20, \"C°\")\n",
    "print(\"Ressentie :\", ressentie20, \"C°\")\n",
    "print(\"La vitesse du vent est de :\", wind20, \"m/s\")\n",
    "print(\"Le temps est :\",description20)\n",
    "\n",
    "print(dt30)\n",
    "print(\"Temperature :\",temp30, \"C°\")\n",
    "print(\"Ressentie :\", ressentie30, \"C°\")\n",
    "print(\"La vitesse du vent est de :\", wind30, \"m/s\")\n",
    "print(\"Le temps est :\",description30)\n",
    "\n",
    "print(dt39)\n",
    "print(\"Temperature :\",temp39, \"C°\")\n",
    "print(\"Ressentie :\", ressentie39, \"C°\")\n",
    "print(\"La vitesse du vent est de :\", wind39, \"m/s\")\n",
    "print(\"Le temps est :\",description39)\n",
    "\n"
   ]
  }
 ],
 "metadata": {
  "kernelspec": {
   "display_name": "Python 3.8.10 64-bit",
   "language": "python",
   "name": "python3"
  },
  "language_info": {
   "codemirror_mode": {
    "name": "ipython",
    "version": 3
   },
   "file_extension": ".py",
   "mimetype": "text/x-python",
   "name": "python",
   "nbconvert_exporter": "python",
   "pygments_lexer": "ipython3",
   "version": "3.8.10"
  },
  "orig_nbformat": 4,
  "vscode": {
   "interpreter": {
    "hash": "916dbcbb3f70747c44a77c7bcd40155683ae19c65e1c03b4aa3499c5328201f1"
   }
  }
 },
 "nbformat": 4,
 "nbformat_minor": 2
}
