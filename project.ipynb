{
 "cells": [
  {
   "cell_type": "markdown",
   "metadata": {},
   "source": [
    "### Appeler les données météorologique actuelles\n",
    "\n"
   ]
  },
  {
   "cell_type": "code",
   "execution_count": 2,
   "metadata": {},
   "outputs": [],
   "source": [
    "import requests\n"
   ]
  },
  {
   "cell_type": "code",
   "execution_count": 4,
   "metadata": {},
   "outputs": [
    {
     "data": {
      "text/plain": [
       "'12e30bac05ff8b5c1f2adf2be1c7be2b'"
      ]
     },
     "execution_count": 4,
     "metadata": {},
     "output_type": "execute_result"
    }
   ],
   "source": [
    "URL=\"https://api.openweathermap.org/data/2.5\"\n",
    "api_key = \"12e30bac05ff8b5c1f2adf2be1c7be2b\"\n",
    "api_key\n",
    "\n"
   ]
  },
  {
   "cell_type": "code",
   "execution_count": 12,
   "metadata": {},
   "outputs": [
    {
     "data": {
      "text/plain": [
       "{'coord': {'lon': 12.49, 'lat': 41.9},\n",
       " 'weather': [{'id': 803,\n",
       "   'main': 'Clouds',\n",
       "   'description': 'broken clouds',\n",
       "   'icon': '04n'}],\n",
       " 'base': 'stations',\n",
       " 'main': {'temp': 292.81,\n",
       "  'feels_like': 292.79,\n",
       "  'temp_min': 290.64,\n",
       "  'temp_max': 294.22,\n",
       "  'pressure': 1018,\n",
       "  'humidity': 75},\n",
       " 'visibility': 10000,\n",
       " 'wind': {'speed': 2.06, 'deg': 120},\n",
       " 'clouds': {'all': 75},\n",
       " 'dt': 1665606906,\n",
       " 'sys': {'type': 2,\n",
       "  'id': 2037790,\n",
       "  'country': 'IT',\n",
       "  'sunrise': 1665551911,\n",
       "  'sunset': 1665592458},\n",
       " 'timezone': 7200,\n",
       " 'id': 6545158,\n",
       " 'name': 'Trevi',\n",
       " 'cod': 200}"
      ]
     },
     "execution_count": 12,
     "metadata": {},
     "output_type": "execute_result"
    }
   ],
   "source": [
    "url = \"https://api.openweathermap.org/data/2.5\"\n",
    "api_key = \"12e30bac05ff8b5c1f2adf2be1c7be2b\"\n",
    "dict = {\"appid\" : api_key, \"lat\" : 41.9,\"lon\" :12.49}\n",
    "temps = requests.get(url + \"/weather\" ,params=dict)\n",
    "\n",
    "temps.json()\n"
   ]
  },
  {
   "cell_type": "markdown",
   "metadata": {},
   "source": [
    "### Champs météo \n",
    "\n"
   ]
  },
  {
   "cell_type": "code",
   "execution_count": 3,
   "metadata": {},
   "outputs": [
    {
     "data": {
      "text/plain": [
       "'12e30bac05ff8b5c1f2adf2be1c7be2b'"
      ]
     },
     "execution_count": 3,
     "metadata": {},
     "output_type": "execute_result"
    }
   ],
   "source": []
  },
  {
   "cell_type": "markdown",
   "metadata": {},
   "source": [
    "### Liste des codes de conditions météorologiques"
   ]
  },
  {
   "cell_type": "code",
   "execution_count": 3,
   "metadata": {},
   "outputs": [
    {
     "name": "stdout",
     "output_type": "stream",
     "text": [
      "conditions_météorologiques:{'id': 300, 'main': 'Drizzle', 'description': 'light intensity drizzle', 'icon': '09d'}\n"
     ]
    }
   ],
   "source": [
    "\n",
    "\n",
    "\n",
    "url=\"https://samples.openweathermap.org/data/2.5/weather?q=Londone&appid=b1b15e88fa797225412429c1c50c122a1\"\n",
    "con=requests.get(url)\n",
    "\n",
    "condition_weather=con.json()\n",
    "\n",
    "weather=condition_weather[\"weather\"][0]\n",
    "\n",
    "print(\"conditions_météorologiques:{}\".format(weather))\n",
    "\n",
    "\n",
    "\n",
    "\n",
    "\n",
    "\n",
    "\n",
    "\n",
    "\n",
    "\n",
    "\n"
   ]
  },
  {
   "cell_type": "markdown",
   "metadata": {},
   "source": [
    "### obtenir l'url de l'icone"
   ]
  },
  {
   "cell_type": "code",
   "execution_count": null,
   "metadata": {},
   "outputs": [],
   "source": []
  },
  {
   "cell_type": "markdown",
   "metadata": {},
   "source": [
    "\n",
    "### température min/max de la météo actuelle et celle de prévision météorologique"
   ]
  },
  {
   "cell_type": "code",
   "execution_count": 6,
   "metadata": {},
   "outputs": [
    {
     "name": "stdout",
     "output_type": "stream",
     "text": [
      "temps :280.32°\n",
      "pression :1012 m/s\n",
      "humidité:81\n",
      "temperature_min:279.15\n",
      "temperature_max :281.15\n",
      "icon:('09d',)\n"
     ]
    }
   ],
   "source": [
    "temps=requests.get(url)\n",
    "\n",
    "temperature=temps.json()\n",
    "\n",
    "tempss=temperature[\"main\"][\"temp\"]\n",
    "pression=temperature[\"main\"][\"pressure\"]\n",
    "humidite=temperature[\"main\"][\"humidity\"]\n",
    "icon=temperature['weather'][0]['icon'] ,\n",
    "\n",
    "temperature_min=temperature[\"main\"][\"temp_min\"]\n",
    "temperature_max=temperature[\"main\"][\"temp_max\"]\n",
    "\n",
    "print(\"temps :{}°\".format(tempss))\n",
    "print(\"pression :{} m/s\".format(pression))\n",
    "print(\"humidité:{}\".format(humidite))\n",
    "print(\"temperature_min:{}\".format(temperature_min))\n",
    "print(\"temperature_max :{}\".format(temperature_max))\n"
   ]
  },
  {
   "cell_type": "code",
   "execution_count": 32,
   "metadata": {},
   "outputs": [
    {
     "name": "stdout",
     "output_type": "stream",
     "text": [
      "Voici les données météorologique de: lille\n",
      "temperature :15.5°\n",
      "vitesse_de_vent :6.17 m/s\n",
      "Latitude :50.633\n",
      "Longitude :3.0586\n",
      "description :clear sky\n"
     ]
    }
   ],
   "source": [
    "city=input(\"veuillez entrer le nom de votre ville:\")\n",
    "URL=\"https://api.openweathermap.org/data/2.5/weather?q={}&appid=12e30bac05ff8b5c1f2adf2be1c7be2b&units=metric\".format(city)\n",
    "res=requests.get(URL)\n",
    "data=res.json()\n",
    "\n",
    "temps=data[\"main\"][\"temp\"]\n",
    "wind_speed=data[\"wind\"][\"speed\"]\n",
    "latitude=data[\"coord\"][\"lat\"]\n",
    "longitude=data[\"coord\"][\"lon\"]\n",
    "description=data[\"weather\"][0][\"description\"]\n",
    "\n",
    "print(\"Voici les données météorologique de:\", city )\n",
    "print(\"temperature :{}°\".format(temps))\n",
    "print(\"vitesse_de_vent :{} m/s\".format(wind_speed))\n",
    "print(\"Latitude :{}\".format(latitude))\n",
    "print(\"Longitude :{}\".format(longitude))\n",
    "print(\"description :{}\".format(description))\n",
    "\n",
    "\n",
    "\n",
    "\n",
    "      \n"
   ]
  },
  {
   "cell_type": "markdown",
   "metadata": {},
   "source": [
    "TEST 5 DAY WEATHER FORECAST.\n"
   ]
  },
  {
   "cell_type": "code",
   "execution_count": 28,
   "metadata": {},
   "outputs": [
    {
     "ename": "KeyError",
     "evalue": "'temp'",
     "output_type": "error",
     "traceback": [
      "\u001b[0;31m---------------------------------------------------------------------------\u001b[0m",
      "\u001b[0;31mKeyError\u001b[0m                                  Traceback (most recent call last)",
      "Cell \u001b[0;32mIn [28], line 8\u001b[0m\n\u001b[1;32m      5\u001b[0m res\u001b[38;5;241m=\u001b[39mrequests\u001b[38;5;241m.\u001b[39mget(URL)\n\u001b[1;32m      6\u001b[0m data\u001b[38;5;241m=\u001b[39mres\u001b[38;5;241m.\u001b[39mjson()\n\u001b[0;32m----> 8\u001b[0m temps\u001b[38;5;241m=\u001b[39m\u001b[43mdata\u001b[49m\u001b[43m[\u001b[49m\u001b[38;5;124;43m\"\u001b[39;49m\u001b[38;5;124;43mlist\u001b[39;49m\u001b[38;5;124;43m\"\u001b[39;49m\u001b[43m]\u001b[49m\u001b[43m[\u001b[49m\u001b[38;5;241;43m0\u001b[39;49m\u001b[43m]\u001b[49m\u001b[43m[\u001b[49m\u001b[38;5;124;43m\"\u001b[39;49m\u001b[38;5;124;43mtemp\u001b[39;49m\u001b[38;5;124;43m\"\u001b[39;49m\u001b[43m]\u001b[49m\n\u001b[1;32m     10\u001b[0m \u001b[38;5;28mprint\u001b[39m(\u001b[38;5;124m\"\u001b[39m\u001b[38;5;124mVoici les données météorologique de:\u001b[39m\u001b[38;5;124m\"\u001b[39m, city )\n\u001b[1;32m     11\u001b[0m \u001b[38;5;28mprint\u001b[39m(\u001b[38;5;124m\"\u001b[39m\u001b[38;5;124mtemperature :\u001b[39m\u001b[38;5;132;01m{}\u001b[39;00m\u001b[38;5;124m°\u001b[39m\u001b[38;5;124m\"\u001b[39m\u001b[38;5;241m.\u001b[39mformat(temps))\n",
      "\u001b[0;31mKeyError\u001b[0m: 'temp'"
     ]
    }
   ],
   "source": [
    "city=input(\"veuillez entrer le nom de votre ville:\")\n",
    "api_key = \"12e30bac05ff8b5c1f2adf2be1c7be2b\"\n",
    "URL=\"http://api.openweathermap.org/data/2.5/forecast?q={}&appid={}\".format(city,api_key)\n",
    "\n",
    "res=requests.get(URL)\n",
    "data=res.json()\n",
    "\n",
    "temps=data[\"main\"][\"temp\"]\n",
    "\n",
    "print(\"Voici les données météorologique de:\", city )\n",
    "print(\"temperature :{}°\".format(temps))"
   ]
  },
  {
   "cell_type": "code",
   "execution_count": 162,
   "metadata": {},
   "outputs": [
    {
     "name": "stdout",
     "output_type": "stream",
     "text": [
      "{'cod': '200', 'message': 0, 'cnt': 40, 'list': [{'dt': 1666191600, 'main': {'temp': 18.51, 'feels_like': 18.27, 'temp_min': 18.51, 'temp_max': 18.64, 'pressure': 1018, 'sea_level': 1018, 'grnd_level': 1015, 'humidity': 71, 'temp_kf': -0.13}, 'weather': [{'id': 800, 'main': 'Clear', 'description': 'clear sky', 'icon': '01d'}], 'clouds': {'all': 0}, 'wind': {'speed': 5.37, 'deg': 91, 'gust': 9.99}, 'visibility': 10000, 'pop': 0, 'sys': {'pod': 'd'}, 'dt_txt': '2022-10-19 15:00:00'}, {'dt': 1666202400, 'main': {'temp': 17.3, 'feels_like': 16.99, 'temp_min': 14.87, 'temp_max': 17.3, 'pressure': 1018, 'sea_level': 1018, 'grnd_level': 1014, 'humidity': 73, 'temp_kf': 2.43}, 'weather': [{'id': 801, 'main': 'Clouds', 'description': 'few clouds', 'icon': '02n'}], 'clouds': {'all': 22}, 'wind': {'speed': 5.23, 'deg': 93, 'gust': 12.42}, 'visibility': 10000, 'pop': 0, 'sys': {'pod': 'n'}, 'dt_txt': '2022-10-19 18:00:00'}, {'dt': 1666213200, 'main': {'temp': 15.58, 'feels_like': 15.36, 'temp_min': 14.12, 'temp_max': 15.58, 'pressure': 1017, 'sea_level': 1017, 'grnd_level': 1012, 'humidity': 83, 'temp_kf': 1.46}, 'weather': [{'id': 803, 'main': 'Clouds', 'description': 'broken clouds', 'icon': '04n'}], 'clouds': {'all': 63}, 'wind': {'speed': 4.64, 'deg': 102, 'gust': 11}, 'visibility': 10000, 'pop': 0, 'sys': {'pod': 'n'}, 'dt_txt': '2022-10-19 21:00:00'}, {'dt': 1666224000, 'main': {'temp': 14.08, 'feels_like': 13.82, 'temp_min': 14.08, 'temp_max': 14.08, 'pressure': 1013, 'sea_level': 1013, 'grnd_level': 1010, 'humidity': 87, 'temp_kf': 0}, 'weather': [{'id': 804, 'main': 'Clouds', 'description': 'overcast clouds', 'icon': '04n'}], 'clouds': {'all': 97}, 'wind': {'speed': 4.34, 'deg': 106, 'gust': 11.08}, 'visibility': 10000, 'pop': 0, 'sys': {'pod': 'n'}, 'dt_txt': '2022-10-20 00:00:00'}, {'dt': 1666234800, 'main': {'temp': 13.97, 'feels_like': 13.75, 'temp_min': 13.97, 'temp_max': 13.97, 'pressure': 1011, 'sea_level': 1011, 'grnd_level': 1008, 'humidity': 89, 'temp_kf': 0}, 'weather': [{'id': 500, 'main': 'Rain', 'description': 'light rain', 'icon': '10n'}], 'clouds': {'all': 100}, 'wind': {'speed': 4.23, 'deg': 114, 'gust': 11.56}, 'visibility': 10000, 'pop': 0.61, 'rain': {'3h': 0.48}, 'sys': {'pod': 'n'}, 'dt_txt': '2022-10-20 03:00:00'}, {'dt': 1666245600, 'main': {'temp': 14.75, 'feels_like': 14.66, 'temp_min': 14.75, 'temp_max': 14.75, 'pressure': 1010, 'sea_level': 1010, 'grnd_level': 1006, 'humidity': 91, 'temp_kf': 0}, 'weather': [{'id': 500, 'main': 'Rain', 'description': 'light rain', 'icon': '10n'}], 'clouds': {'all': 100}, 'wind': {'speed': 5.97, 'deg': 153, 'gust': 12.36}, 'visibility': 8026, 'pop': 0.78, 'rain': {'3h': 1.06}, 'sys': {'pod': 'n'}, 'dt_txt': '2022-10-20 06:00:00'}, {'dt': 1666256400, 'main': {'temp': 17.31, 'feels_like': 17.24, 'temp_min': 17.31, 'temp_max': 17.31, 'pressure': 1009, 'sea_level': 1009, 'grnd_level': 1006, 'humidity': 82, 'temp_kf': 0}, 'weather': [{'id': 500, 'main': 'Rain', 'description': 'light rain', 'icon': '10d'}], 'clouds': {'all': 100}, 'wind': {'speed': 6, 'deg': 183, 'gust': 14.36}, 'visibility': 10000, 'pop': 0.67, 'rain': {'3h': 1.05}, 'sys': {'pod': 'd'}, 'dt_txt': '2022-10-20 09:00:00'}, {'dt': 1666267200, 'main': {'temp': 20.7, 'feels_like': 20.47, 'temp_min': 20.7, 'temp_max': 20.7, 'pressure': 1009, 'sea_level': 1009, 'grnd_level': 1006, 'humidity': 63, 'temp_kf': 0}, 'weather': [{'id': 804, 'main': 'Clouds', 'description': 'overcast clouds', 'icon': '04d'}], 'clouds': {'all': 100}, 'wind': {'speed': 7.08, 'deg': 198, 'gust': 13.25}, 'visibility': 10000, 'pop': 0.55, 'sys': {'pod': 'd'}, 'dt_txt': '2022-10-20 12:00:00'}, {'dt': 1666278000, 'main': {'temp': 20.55, 'feels_like': 20.02, 'temp_min': 20.55, 'temp_max': 20.55, 'pressure': 1008, 'sea_level': 1008, 'grnd_level': 1005, 'humidity': 52, 'temp_kf': 0}, 'weather': [{'id': 800, 'main': 'Clear', 'description': 'clear sky', 'icon': '01d'}], 'clouds': {'all': 4}, 'wind': {'speed': 6.35, 'deg': 217, 'gust': 11.69}, 'visibility': 10000, 'pop': 0.03, 'sys': {'pod': 'd'}, 'dt_txt': '2022-10-20 15:00:00'}, {'dt': 1666288800, 'main': {'temp': 15.79, 'feels_like': 15.17, 'temp_min': 15.79, 'temp_max': 15.79, 'pressure': 1009, 'sea_level': 1009, 'grnd_level': 1006, 'humidity': 67, 'temp_kf': 0}, 'weather': [{'id': 800, 'main': 'Clear', 'description': 'clear sky', 'icon': '01n'}], 'clouds': {'all': 2}, 'wind': {'speed': 1.93, 'deg': 220, 'gust': 2.82}, 'visibility': 10000, 'pop': 0.03, 'sys': {'pod': 'n'}, 'dt_txt': '2022-10-20 18:00:00'}, {'dt': 1666299600, 'main': {'temp': 14.91, 'feels_like': 14.73, 'temp_min': 14.91, 'temp_max': 14.91, 'pressure': 1008, 'sea_level': 1008, 'grnd_level': 1005, 'humidity': 87, 'temp_kf': 0}, 'weather': [{'id': 500, 'main': 'Rain', 'description': 'light rain', 'icon': '10n'}], 'clouds': {'all': 41}, 'wind': {'speed': 4.71, 'deg': 157, 'gust': 11.17}, 'visibility': 10000, 'pop': 0.49, 'rain': {'3h': 0.43}, 'sys': {'pod': 'n'}, 'dt_txt': '2022-10-20 21:00:00'}, {'dt': 1666310400, 'main': {'temp': 15.5, 'feels_like': 15.3, 'temp_min': 15.5, 'temp_max': 15.5, 'pressure': 1007, 'sea_level': 1007, 'grnd_level': 1003, 'humidity': 84, 'temp_kf': 0}, 'weather': [{'id': 500, 'main': 'Rain', 'description': 'light rain', 'icon': '10n'}], 'clouds': {'all': 70}, 'wind': {'speed': 5.31, 'deg': 162, 'gust': 13.65}, 'visibility': 10000, 'pop': 0.76, 'rain': {'3h': 0.45}, 'sys': {'pod': 'n'}, 'dt_txt': '2022-10-21 00:00:00'}, {'dt': 1666321200, 'main': {'temp': 14.99, 'feels_like': 14.89, 'temp_min': 14.99, 'temp_max': 14.99, 'pressure': 1006, 'sea_level': 1006, 'grnd_level': 1002, 'humidity': 90, 'temp_kf': 0}, 'weather': [{'id': 500, 'main': 'Rain', 'description': 'light rain', 'icon': '10n'}], 'clouds': {'all': 100}, 'wind': {'speed': 4.3, 'deg': 175, 'gust': 11.4}, 'visibility': 10000, 'pop': 0.49, 'rain': {'3h': 0.62}, 'sys': {'pod': 'n'}, 'dt_txt': '2022-10-21 03:00:00'}, {'dt': 1666332000, 'main': {'temp': 14.54, 'feels_like': 14.5, 'temp_min': 14.54, 'temp_max': 14.54, 'pressure': 1005, 'sea_level': 1005, 'grnd_level': 1002, 'humidity': 94, 'temp_kf': 0}, 'weather': [{'id': 500, 'main': 'Rain', 'description': 'light rain', 'icon': '10n'}], 'clouds': {'all': 100}, 'wind': {'speed': 3.66, 'deg': 170, 'gust': 8.99}, 'visibility': 10000, 'pop': 0.81, 'rain': {'3h': 0.67}, 'sys': {'pod': 'n'}, 'dt_txt': '2022-10-21 06:00:00'}, {'dt': 1666342800, 'main': {'temp': 16.14, 'feels_like': 15.9, 'temp_min': 16.14, 'temp_max': 16.14, 'pressure': 1006, 'sea_level': 1006, 'grnd_level': 1003, 'humidity': 80, 'temp_kf': 0}, 'weather': [{'id': 804, 'main': 'Clouds', 'description': 'overcast clouds', 'icon': '04d'}], 'clouds': {'all': 100}, 'wind': {'speed': 5.28, 'deg': 180, 'gust': 13.04}, 'visibility': 10000, 'pop': 0.21, 'sys': {'pod': 'd'}, 'dt_txt': '2022-10-21 09:00:00'}, {'dt': 1666353600, 'main': {'temp': 18.71, 'feels_like': 18.49, 'temp_min': 18.71, 'temp_max': 18.71, 'pressure': 1006, 'sea_level': 1006, 'grnd_level': 1003, 'humidity': 71, 'temp_kf': 0}, 'weather': [{'id': 500, 'main': 'Rain', 'description': 'light rain', 'icon': '10d'}], 'clouds': {'all': 98}, 'wind': {'speed': 6.08, 'deg': 194, 'gust': 10.14}, 'visibility': 10000, 'pop': 0.31, 'rain': {'3h': 0.15}, 'sys': {'pod': 'd'}, 'dt_txt': '2022-10-21 12:00:00'}, {'dt': 1666364400, 'main': {'temp': 20.12, 'feels_like': 19.6, 'temp_min': 20.12, 'temp_max': 20.12, 'pressure': 1006, 'sea_level': 1006, 'grnd_level': 1003, 'humidity': 54, 'temp_kf': 0}, 'weather': [{'id': 500, 'main': 'Rain', 'description': 'light rain', 'icon': '10d'}], 'clouds': {'all': 15}, 'wind': {'speed': 6.42, 'deg': 197, 'gust': 11.85}, 'visibility': 10000, 'pop': 0.3, 'rain': {'3h': 0.15}, 'sys': {'pod': 'd'}, 'dt_txt': '2022-10-21 15:00:00'}, {'dt': 1666375200, 'main': {'temp': 17.76, 'feels_like': 17.16, 'temp_min': 17.76, 'temp_max': 17.76, 'pressure': 1006, 'sea_level': 1006, 'grnd_level': 1003, 'humidity': 60, 'temp_kf': 0}, 'weather': [{'id': 500, 'main': 'Rain', 'description': 'light rain', 'icon': '10n'}], 'clouds': {'all': 48}, 'wind': {'speed': 5.76, 'deg': 191, 'gust': 13.42}, 'visibility': 10000, 'pop': 0.25, 'rain': {'3h': 0.16}, 'sys': {'pod': 'n'}, 'dt_txt': '2022-10-21 18:00:00'}, {'dt': 1666386000, 'main': {'temp': 17.17, 'feels_like': 16.67, 'temp_min': 17.17, 'temp_max': 17.17, 'pressure': 1008, 'sea_level': 1008, 'grnd_level': 1004, 'humidity': 66, 'temp_kf': 0}, 'weather': [{'id': 804, 'main': 'Clouds', 'description': 'overcast clouds', 'icon': '04n'}], 'clouds': {'all': 85}, 'wind': {'speed': 8.31, 'deg': 204, 'gust': 15.14}, 'visibility': 10000, 'pop': 0, 'sys': {'pod': 'n'}, 'dt_txt': '2022-10-21 21:00:00'}, {'dt': 1666396800, 'main': {'temp': 16.21, 'feels_like': 15.79, 'temp_min': 16.21, 'temp_max': 16.21, 'pressure': 1009, 'sea_level': 1009, 'grnd_level': 1006, 'humidity': 73, 'temp_kf': 0}, 'weather': [{'id': 804, 'main': 'Clouds', 'description': 'overcast clouds', 'icon': '04n'}], 'clouds': {'all': 90}, 'wind': {'speed': 7.66, 'deg': 222, 'gust': 13.42}, 'visibility': 10000, 'pop': 0.09, 'sys': {'pod': 'n'}, 'dt_txt': '2022-10-22 00:00:00'}, {'dt': 1666407600, 'main': {'temp': 14.95, 'feels_like': 14.54, 'temp_min': 14.95, 'temp_max': 14.95, 'pressure': 1011, 'sea_level': 1011, 'grnd_level': 1007, 'humidity': 78, 'temp_kf': 0}, 'weather': [{'id': 804, 'main': 'Clouds', 'description': 'overcast clouds', 'icon': '04n'}], 'clouds': {'all': 100}, 'wind': {'speed': 6.26, 'deg': 228, 'gust': 12.22}, 'visibility': 10000, 'pop': 0.06, 'sys': {'pod': 'n'}, 'dt_txt': '2022-10-22 03:00:00'}, {'dt': 1666418400, 'main': {'temp': 13.09, 'feels_like': 12.67, 'temp_min': 13.09, 'temp_max': 13.09, 'pressure': 1013, 'sea_level': 1013, 'grnd_level': 1009, 'humidity': 85, 'temp_kf': 0}, 'weather': [{'id': 803, 'main': 'Clouds', 'description': 'broken clouds', 'icon': '04n'}], 'clouds': {'all': 57}, 'wind': {'speed': 4.93, 'deg': 216, 'gust': 10.79}, 'visibility': 10000, 'pop': 0.04, 'sys': {'pod': 'n'}, 'dt_txt': '2022-10-22 06:00:00'}, {'dt': 1666429200, 'main': {'temp': 15.05, 'feels_like': 14.62, 'temp_min': 15.05, 'temp_max': 15.05, 'pressure': 1015, 'sea_level': 1015, 'grnd_level': 1011, 'humidity': 77, 'temp_kf': 0}, 'weather': [{'id': 804, 'main': 'Clouds', 'description': 'overcast clouds', 'icon': '04d'}], 'clouds': {'all': 95}, 'wind': {'speed': 5.46, 'deg': 222, 'gust': 8.96}, 'visibility': 10000, 'pop': 0.02, 'sys': {'pod': 'd'}, 'dt_txt': '2022-10-22 09:00:00'}, {'dt': 1666440000, 'main': {'temp': 18.45, 'feels_like': 17.87, 'temp_min': 18.45, 'temp_max': 18.45, 'pressure': 1015, 'sea_level': 1015, 'grnd_level': 1012, 'humidity': 58, 'temp_kf': 0}, 'weather': [{'id': 803, 'main': 'Clouds', 'description': 'broken clouds', 'icon': '04d'}], 'clouds': {'all': 74}, 'wind': {'speed': 5.89, 'deg': 225, 'gust': 8.71}, 'visibility': 10000, 'pop': 0, 'sys': {'pod': 'd'}, 'dt_txt': '2022-10-22 12:00:00'}, {'dt': 1666450800, 'main': {'temp': 19.19, 'feels_like': 18.68, 'temp_min': 19.19, 'temp_max': 19.19, 'pressure': 1015, 'sea_level': 1015, 'grnd_level': 1012, 'humidity': 58, 'temp_kf': 0}, 'weather': [{'id': 803, 'main': 'Clouds', 'description': 'broken clouds', 'icon': '04d'}], 'clouds': {'all': 60}, 'wind': {'speed': 4.51, 'deg': 226, 'gust': 7.75}, 'visibility': 10000, 'pop': 0, 'sys': {'pod': 'd'}, 'dt_txt': '2022-10-22 15:00:00'}, {'dt': 1666461600, 'main': {'temp': 16.17, 'feels_like': 15.7, 'temp_min': 16.17, 'temp_max': 16.17, 'pressure': 1016, 'sea_level': 1016, 'grnd_level': 1012, 'humidity': 71, 'temp_kf': 0}, 'weather': [{'id': 803, 'main': 'Clouds', 'description': 'broken clouds', 'icon': '04n'}], 'clouds': {'all': 80}, 'wind': {'speed': 2.87, 'deg': 197, 'gust': 5.6}, 'visibility': 10000, 'pop': 0, 'sys': {'pod': 'n'}, 'dt_txt': '2022-10-22 18:00:00'}, {'dt': 1666472400, 'main': {'temp': 15.38, 'feels_like': 14.85, 'temp_min': 15.38, 'temp_max': 15.38, 'pressure': 1016, 'sea_level': 1016, 'grnd_level': 1013, 'humidity': 72, 'temp_kf': 0}, 'weather': [{'id': 804, 'main': 'Clouds', 'description': 'overcast clouds', 'icon': '04n'}], 'clouds': {'all': 100}, 'wind': {'speed': 2.67, 'deg': 177, 'gust': 5.15}, 'visibility': 10000, 'pop': 0, 'sys': {'pod': 'n'}, 'dt_txt': '2022-10-22 21:00:00'}, {'dt': 1666483200, 'main': {'temp': 15.67, 'feels_like': 15.12, 'temp_min': 15.67, 'temp_max': 15.67, 'pressure': 1015, 'sea_level': 1015, 'grnd_level': 1012, 'humidity': 70, 'temp_kf': 0}, 'weather': [{'id': 804, 'main': 'Clouds', 'description': 'overcast clouds', 'icon': '04n'}], 'clouds': {'all': 100}, 'wind': {'speed': 3.36, 'deg': 152, 'gust': 9.5}, 'visibility': 10000, 'pop': 0, 'sys': {'pod': 'n'}, 'dt_txt': '2022-10-23 00:00:00'}, {'dt': 1666494000, 'main': {'temp': 15.35, 'feels_like': 14.87, 'temp_min': 15.35, 'temp_max': 15.35, 'pressure': 1013, 'sea_level': 1013, 'grnd_level': 1010, 'humidity': 74, 'temp_kf': 0}, 'weather': [{'id': 804, 'main': 'Clouds', 'description': 'overcast clouds', 'icon': '04n'}], 'clouds': {'all': 100}, 'wind': {'speed': 2.31, 'deg': 153, 'gust': 6.27}, 'visibility': 10000, 'pop': 0, 'sys': {'pod': 'n'}, 'dt_txt': '2022-10-23 03:00:00'}, {'dt': 1666504800, 'main': {'temp': 14.73, 'feels_like': 14.4, 'temp_min': 14.73, 'temp_max': 14.73, 'pressure': 1012, 'sea_level': 1012, 'grnd_level': 1009, 'humidity': 82, 'temp_kf': 0}, 'weather': [{'id': 500, 'main': 'Rain', 'description': 'light rain', 'icon': '10n'}], 'clouds': {'all': 100}, 'wind': {'speed': 2.86, 'deg': 137, 'gust': 6.95}, 'visibility': 10000, 'pop': 0.54, 'rain': {'3h': 0.96}, 'sys': {'pod': 'n'}, 'dt_txt': '2022-10-23 06:00:00'}, {'dt': 1666515600, 'main': {'temp': 15.05, 'feels_like': 14.8, 'temp_min': 15.05, 'temp_max': 15.05, 'pressure': 1011, 'sea_level': 1011, 'grnd_level': 1008, 'humidity': 84, 'temp_kf': 0}, 'weather': [{'id': 500, 'main': 'Rain', 'description': 'light rain', 'icon': '10d'}], 'clouds': {'all': 100}, 'wind': {'speed': 3.66, 'deg': 147, 'gust': 8.06}, 'visibility': 10000, 'pop': 0.84, 'rain': {'3h': 1.64}, 'sys': {'pod': 'd'}, 'dt_txt': '2022-10-23 09:00:00'}, {'dt': 1666526400, 'main': {'temp': 16.59, 'feels_like': 16.26, 'temp_min': 16.59, 'temp_max': 16.59, 'pressure': 1010, 'sea_level': 1010, 'grnd_level': 1007, 'humidity': 75, 'temp_kf': 0}, 'weather': [{'id': 804, 'main': 'Clouds', 'description': 'overcast clouds', 'icon': '04d'}], 'clouds': {'all': 100}, 'wind': {'speed': 4.96, 'deg': 165, 'gust': 11.55}, 'visibility': 10000, 'pop': 0.68, 'sys': {'pod': 'd'}, 'dt_txt': '2022-10-23 12:00:00'}, {'dt': 1666537200, 'main': {'temp': 18.69, 'feels_like': 18.39, 'temp_min': 18.69, 'temp_max': 18.69, 'pressure': 1008, 'sea_level': 1008, 'grnd_level': 1005, 'humidity': 68, 'temp_kf': 0}, 'weather': [{'id': 804, 'main': 'Clouds', 'description': 'overcast clouds', 'icon': '04d'}], 'clouds': {'all': 100}, 'wind': {'speed': 5.69, 'deg': 182, 'gust': 13.6}, 'visibility': 10000, 'pop': 0, 'sys': {'pod': 'd'}, 'dt_txt': '2022-10-23 15:00:00'}, {'dt': 1666548000, 'main': {'temp': 17.45, 'feels_like': 17.03, 'temp_min': 17.45, 'temp_max': 17.45, 'pressure': 1009, 'sea_level': 1009, 'grnd_level': 1006, 'humidity': 68, 'temp_kf': 0}, 'weather': [{'id': 804, 'main': 'Clouds', 'description': 'overcast clouds', 'icon': '04n'}], 'clouds': {'all': 96}, 'wind': {'speed': 4.82, 'deg': 185, 'gust': 12.77}, 'visibility': 10000, 'pop': 0, 'sys': {'pod': 'n'}, 'dt_txt': '2022-10-23 18:00:00'}, {'dt': 1666558800, 'main': {'temp': 16.84, 'feels_like': 16.41, 'temp_min': 16.84, 'temp_max': 16.84, 'pressure': 1009, 'sea_level': 1009, 'grnd_level': 1006, 'humidity': 70, 'temp_kf': 0}, 'weather': [{'id': 804, 'main': 'Clouds', 'description': 'overcast clouds', 'icon': '04n'}], 'clouds': {'all': 95}, 'wind': {'speed': 4.83, 'deg': 178, 'gust': 13.15}, 'visibility': 10000, 'pop': 0, 'sys': {'pod': 'n'}, 'dt_txt': '2022-10-23 21:00:00'}, {'dt': 1666569600, 'main': {'temp': 17.99, 'feels_like': 17.57, 'temp_min': 17.99, 'temp_max': 17.99, 'pressure': 1009, 'sea_level': 1009, 'grnd_level': 1005, 'humidity': 66, 'temp_kf': 0}, 'weather': [{'id': 804, 'main': 'Clouds', 'description': 'overcast clouds', 'icon': '04n'}], 'clouds': {'all': 98}, 'wind': {'speed': 5.34, 'deg': 197, 'gust': 13.76}, 'visibility': 10000, 'pop': 0.02, 'sys': {'pod': 'n'}, 'dt_txt': '2022-10-24 00:00:00'}, {'dt': 1666580400, 'main': {'temp': 17.09, 'feels_like': 16.66, 'temp_min': 17.09, 'temp_max': 17.09, 'pressure': 1009, 'sea_level': 1009, 'grnd_level': 1006, 'humidity': 69, 'temp_kf': 0}, 'weather': [{'id': 500, 'main': 'Rain', 'description': 'light rain', 'icon': '10n'}], 'clouds': {'all': 100}, 'wind': {'speed': 7.44, 'deg': 196, 'gust': 15.07}, 'visibility': 10000, 'pop': 0.35, 'rain': {'3h': 0.43}, 'sys': {'pod': 'n'}, 'dt_txt': '2022-10-24 03:00:00'}, {'dt': 1666591200, 'main': {'temp': 16.07, 'feels_like': 15.64, 'temp_min': 16.07, 'temp_max': 16.07, 'pressure': 1009, 'sea_level': 1009, 'grnd_level': 1006, 'humidity': 73, 'temp_kf': 0}, 'weather': [{'id': 803, 'main': 'Clouds', 'description': 'broken clouds', 'icon': '04n'}], 'clouds': {'all': 79}, 'wind': {'speed': 7.16, 'deg': 190, 'gust': 15.23}, 'visibility': 10000, 'pop': 0.11, 'sys': {'pod': 'n'}, 'dt_txt': '2022-10-24 06:00:00'}, {'dt': 1666602000, 'main': {'temp': 17.96, 'feels_like': 17.56, 'temp_min': 17.96, 'temp_max': 17.96, 'pressure': 1010, 'sea_level': 1010, 'grnd_level': 1007, 'humidity': 67, 'temp_kf': 0}, 'weather': [{'id': 802, 'main': 'Clouds', 'description': 'scattered clouds', 'icon': '03d'}], 'clouds': {'all': 43}, 'wind': {'speed': 7.77, 'deg': 204, 'gust': 14}, 'visibility': 10000, 'pop': 0, 'sys': {'pod': 'd'}, 'dt_txt': '2022-10-24 09:00:00'}, {'dt': 1666612800, 'main': {'temp': 20.17, 'feels_like': 19.65, 'temp_min': 20.17, 'temp_max': 20.17, 'pressure': 1010, 'sea_level': 1010, 'grnd_level': 1007, 'humidity': 54, 'temp_kf': 0}, 'weather': [{'id': 803, 'main': 'Clouds', 'description': 'broken clouds', 'icon': '04d'}], 'clouds': {'all': 66}, 'wind': {'speed': 7.45, 'deg': 215, 'gust': 12.85}, 'visibility': 10000, 'pop': 0, 'sys': {'pod': 'd'}, 'dt_txt': '2022-10-24 12:00:00'}], 'city': {'id': 2998324, 'name': 'Lille', 'coord': {'lat': 50.633, 'lon': 3.0586}, 'country': 'FR', 'population': 228328, 'timezone': 7200, 'sunrise': 1666160194, 'sunset': 1666198117}}\n"
     ]
    }
   ],
   "source": [
    "\n",
    "\n",
    "\n",
    "base_url=\"http://api.openweathermap.org/data/2.5/forecast?\"\n",
    "api_key = \"12e30bac05ff8b5c1f2adf2be1c7be2b\"\n",
    "city =input(\"Entrer votre ville.\")\n",
    "units = \"metric\"\n",
    "lang=\"fr\"\n",
    "url = base_url + \"appid=\" + api_key + \"&q=\" + city + \"&units=\" + units\n",
    "\n",
    "\n",
    "response=requests.get(url).json()\n",
    "\n",
    "temp0=response[\"list\"][0][\"main\"][\"temp\"]\n",
    "ressentie0=response[\"list\"][0][\"main\"][\"feels_like\"]\n",
    "dt0=response[\"list\"][0][\"dt_txt\"]\n",
    "wind0=response[\"list\"][0][\"wind\"][\"speed\"]\n",
    "description0=response[\"list\"][0][\"weather\"][0][\"description\"]\n",
    "\n",
    "\n",
    "\n",
    "temp10=response[\"list\"][10][\"main\"][\"temp\"]\n",
    "ressentie10=response[\"list\"][10][\"main\"][\"feels_like\"]\n",
    "dt10=response[\"list\"][10][\"dt_txt\"]\n",
    "wind10=response[\"list\"][10][\"wind\"][\"speed\"]\n",
    "description10=response[\"list\"][10][\"weather\"][0][\"description\"]\n",
    "\n",
    "temp15=response[\"list\"][15][\"main\"][\"temp\"]\n",
    "ressentie15=response[\"list\"][15][\"main\"][\"feels_like\"]\n",
    "dt15=response[\"list\"][15][\"dt_txt\"]\n",
    "wind15=response[\"list\"][15][\"wind\"][\"speed\"]\n",
    "description15=response[\"list\"][15][\"weather\"][0][\"description\"]\n",
    "\n",
    "temp20=response[\"list\"][20][\"main\"][\"temp\"]\n",
    "ressentie20=response[\"list\"][20][\"main\"][\"feels_like\"]\n",
    "dt20=response[\"list\"][20][\"dt_txt\"]\n",
    "wind20=response[\"list\"][20][\"wind\"][\"speed\"]\n",
    "description20=response[\"list\"][20][\"weather\"][0][\"description\"]\n",
    "\n",
    "temp30=response[\"list\"][30][\"main\"][\"temp\"]\n",
    "ressentie30=response[\"list\"][30][\"main\"][\"feels_like\"]\n",
    "dt30=response[\"list\"][30][\"dt_txt\"]\n",
    "wind30=response[\"list\"][30][\"wind\"][\"speed\"]\n",
    "description30=response[\"list\"][30][\"weather\"][0][\"description\"]\n",
    "\n",
    "temp39=response[\"list\"][39][\"main\"][\"temp\"]\n",
    "ressentie39=response[\"list\"][39][\"main\"][\"feels_like\"]\n",
    "dt39=response[\"list\"][39][\"dt_txt\"]\n",
    "wind39=response[\"list\"][39][\"wind\"][\"speed\"]\n",
    "description39=response[\"list\"][39][\"weather\"][0][\"description\"]\n",
    "\n",
    "\n",
    "print(dt0)\n",
    "print(\"Temperature :\",temp0, \"C°\")\n",
    "print(\"Ressentie :\", ressentie0, \"C°\")\n",
    "print(\"La vitesse du vent est de :\", wind0 ,\"m/s\")\n",
    "print(\"Le temps est :\",description0)\n",
    "\n",
    "print(dt10)\n",
    "print(\"Temperature :\",temp10, \"C°\")\n",
    "print(\"Ressentie :\", ressentie10, \"C°\")\n",
    "print(\"La vitesse du vent est de :\", wind10, \"m/s\")\n",
    "print(\"Le temps est :\",description10)\n",
    "\n",
    "print(dt15)\n",
    "print(\"Temperature :\",temp15, \"C°\")\n",
    "print(\"Ressentie :\", ressentie15, \"C°\")\n",
    "print(\"La vitesse du vent est de :\", wind15, \"m/s\")\n",
    "print(\"Le temps est :\",description15)\n",
    "\n",
    "print(dt20)\n",
    "print(\"Temperature :\",temp20, \"C°\")\n",
    "print(\"Ressentie :\", ressentie20, \"C°\")\n",
    "print(\"La vitesse du vent est de :\", wind20, \"m/s\")\n",
    "print(\"Le temps est :\",description20)\n",
    "\n",
    "print(dt30)\n",
    "print(\"Temperature :\",temp30, \"C°\")\n",
    "print(\"Ressentie :\", ressentie30, \"C°\")\n",
    "print(\"La vitesse du vent est de :\", wind30, \"m/s\")\n",
    "print(\"Le temps est :\",description30)\n",
    "\n",
    "print(dt39)\n",
    "print(\"Temperature :\",temp39, \"C°\")\n",
    "print(\"Ressentie :\", ressentie39, \"C°\")\n",
    "print(\"La vitesse du vent est de :\", wind39, \"m/s\")\n",
    "print(\"Le temps est :\",description39)\n",
    "\n"
   ]
  }
 ],
 "metadata": {
  "kernelspec": {
   "display_name": "Python 3.8.10 64-bit",
   "language": "python",
   "name": "python3"
  },
  "language_info": {
   "codemirror_mode": {
    "name": "ipython",
    "version": 3
   },
   "file_extension": ".py",
   "mimetype": "text/x-python",
   "name": "python",
   "nbconvert_exporter": "python",
   "pygments_lexer": "ipython3",
   "version": "3.8.10"
  },
  "orig_nbformat": 4,
  "vscode": {
   "interpreter": {
    "hash": "916dbcbb3f70747c44a77c7bcd40155683ae19c65e1c03b4aa3499c5328201f1"
   }
  }
 },
 "nbformat": 4,
 "nbformat_minor": 2
}
